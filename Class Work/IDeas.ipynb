{
 "cells": [
  {
   "cell_type": "code",
   "execution_count": 2,
   "metadata": {},
   "outputs": [],
   "source": [
    "import numpy as np\n",
    "import scipy.stats as sts\n",
    "import matplotlib.pyplot as plt"
   ]
  },
  {
   "cell_type": "code",
   "execution_count": 3,
   "metadata": {},
   "outputs": [],
   "source": [
    "data = {\n",
    "    \"Kaufman 1974\": {\"control\": [4, 10], \"treatment\": [13, 16]},\n",
    "    \"Galli 1994\": {\"control\": [11, 18], \"treatment\": [10, 16]},\n",
    "    \"Silny 2006\": {\"control\": [0, 10], \"treatment\": [7, 10]},\n",
    "    \"Sanchez 2012\": {\"control\": [12, 29], \"treatment\": [22, 31]},\n",
    "    \"Di Rienzo 2014\": {\"control\": [9, 15], \"treatment\": [20, 23]},\n",
    "    \"Qin 2014\": {\"control\": [21, 39], \"treatment\": [35, 45]}}\n",
    "\n",
    "control_imp, control_tot = [], []\n",
    "\n",
    "for study, i in data.items():\n",
    "    control_imp.append(i['control'][0])\n",
    "    control_tot.append(i['control'][1])\n",
    "    \n",
    "control_posterior = sts.beta.rvs(a=58, b=65, size=10**4)"
   ]
  },
  {
   "cell_type": "code",
   "execution_count": 4,
   "metadata": {},
   "outputs": [
    {
     "data": {
      "image/png": "[encoded data removed]",
      "text/plain": [
       "<Figure size 864x432 with 1 Axes>"
      ]
     },
     "metadata": {
      "needs_background": "light"
     },
     "output_type": "display_data"
    }
   ],
   "source": [
    "\"\"\"\n",
    "The test statistic returns the average improvment rate\n",
    "for each of the trails conducted.\n",
    "\"\"\"\n",
    "\n",
    "def test_stats(inout):\n",
    "    return np.var([inout[i] / control_tot[i] \n",
    "                   for i in range(6)])\n",
    "\n",
    "\"\"\"\n",
    "Sampling from a binomial distribution with i as the replicated \n",
    "improvement rate from the posterior of the control group.\n",
    "\"\"\"\n",
    "replica_stats = []\n",
    "for i in control_posterior:\n",
    "    replica_stats.append(test_stats(\n",
    "        [sts.binom.rvs(control_tot[_], i) \n",
    "         for _ in range(6)]))\n",
    "\n",
    "\n",
    "# Improvment rate of the real control data \n",
    "real_stats = test_stats(control_imp)\n",
    "\n",
    "\n",
    "plt.figure(figsize=(12, 6))\n",
    "plt.hist(replica_stats, bins='auto', density=True, alpha= .7)\n",
    "plt.axvline(real_stats, color='black')\n",
    "plt.title('Test statistic distribution on replicated data. P-value: %.3f' % \n",
    "         (np.mean(np.array(replica_stats) > real_stats)))\n",
    "plt.show()"
   ]
  },
  {
   "cell_type": "code",
   "execution_count": null,
   "metadata": {},
   "outputs": [],
   "source": []
  }
 ],
 "metadata": {
  "kernelspec": {
   "display_name": "Python 3",
   "language": "python",
   "name": "python3"
  },
  "language_info": {
   "codemirror_mode": {
    "name": "ipython",
    "version": 3
   },
   "file_extension": ".py",
   "mimetype": "text/x-python",
   "name": "python",
   "nbconvert_exporter": "python",
   "pygments_lexer": "ipython3",
   "version": "3.6.9"
  }
 },
 "nbformat": 4,
 "nbformat_minor": 2
}
