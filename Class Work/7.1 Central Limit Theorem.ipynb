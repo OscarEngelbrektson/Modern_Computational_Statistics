{
 "cells": [
  {
   "cell_type": "code",
   "execution_count": 11,
   "metadata": {},
   "outputs": [],
   "source": [
    "import numpy as np\n",
    "import scipy.stats as sts"
   ]
  },
  {
   "cell_type": "markdown",
   "metadata": {},
   "source": [
    "1. The mean of a binomial(k, n, p, q)  = n*p\n",
    "2. SD of binomial(k,n,p,q) = sqrt(n*p*q)\n",
    "\n",
    "Using this, we can approximate the binomial posterior distribution using a normal distribution."
   ]
  },
  {
   "cell_type": "code",
   "execution_count": 12,
   "metadata": {},
   "outputs": [],
   "source": [
    "def normal_approx_binom(samples, p):\n",
    "    '''\n",
    "    1. The mean of a binomial(k, n, p, q)  = n*p\n",
    "    2. SD of binomial(k,n,p,q) = sqrt(n*p*q)\n",
    "    Using this, we can approximate the binomial \n",
    "    posterior distribution using a normal distribution.\n",
    "    '''\n",
    "    \n",
    "    mu = samples*p \n",
    "    sigma = np.sqrt(mu*(1-p))\n",
    "    distribution = sts.norm(mu, sigma)\n",
    "    \n",
    "    #divide by num samples to get proportion, multiply by 100 to get percent \n",
    "    normalization = samples/100\n",
    "    \n",
    "    #Return 95% confidence interval as percentages\n",
    "    return [distribution.ppf(0.025)/normalization, distribution.ppf(0.975)/normalization]"
   ]
  },
  {
   "cell_type": "code",
   "execution_count": 13,
   "metadata": {},
   "outputs": [],
   "source": [
    "def get_sampling_error(samples, p):\n",
    "    ci = normal_approx_binom(samples, p)\n",
    "    \n",
    "    #Round distance from mean to nearest percentage point\n",
    "    return np.round(np.mean(ci)-ci[0])"
   ]
  },
  {
   "cell_type": "code",
   "execution_count": 14,
   "metadata": {},
   "outputs": [
    {
     "data": {
      "text/plain": [
       "2.0"
      ]
     },
     "execution_count": 14,
     "metadata": {},
     "output_type": "execute_result"
    }
   ],
   "source": [
    "#Q1, samples =1000 percentage = 10\n",
    "get_sampling_error(1000, 0.1)"
   ]
  },
  {
   "cell_type": "code",
   "execution_count": 15,
   "metadata": {},
   "outputs": [],
   "source": [
    "table = [[get_sampling_error(samples, p) for p in [0.1, 0.2, 0.3, 0.4, 0.5, 0.6, 0.7, 0.8, 0.9]]\n",
    "         for samples in [1000, 750, 500, 250, 100]]"
   ]
  },
  {
   "cell_type": "code",
   "execution_count": 16,
   "metadata": {},
   "outputs": [
    {
     "data": {
      "text/plain": [
       "array([[ 2.,  2.,  3.,  4.,  6.],\n",
       "       [ 2.,  3.,  4.,  5.,  8.],\n",
       "       [ 3.,  3.,  4.,  6.,  9.],\n",
       "       [ 3.,  4.,  4.,  6., 10.],\n",
       "       [ 3.,  4.,  4.,  6., 10.],\n",
       "       [ 3.,  4.,  4.,  6., 10.],\n",
       "       [ 3.,  3.,  4.,  6.,  9.],\n",
       "       [ 2.,  3.,  4.,  5.,  8.],\n",
       "       [ 2.,  2.,  3.,  4.,  6.]])"
      ]
     },
     "execution_count": 16,
     "metadata": {},
     "output_type": "execute_result"
    }
   ],
   "source": [
    "np.array(table).T"
   ]
  },
  {
   "cell_type": "code",
   "execution_count": 17,
   "metadata": {},
   "outputs": [
    {
     "data": {
      "text/html": [
       "<div>\n",
       "<style scoped>\n",
       "    .dataframe tbody tr th:only-of-type {\n",
       "        vertical-align: middle;\n",
       "    }\n",
       "\n",
       "    .dataframe tbody tr th {\n",
       "        vertical-align: top;\n",
       "    }\n",
       "\n",
       "    .dataframe thead th {\n",
       "        text-align: right;\n",
       "    }\n",
       "</style>\n",
       "<table border=\"1\" class=\"dataframe\">\n",
       "  <thead>\n",
       "    <tr style=\"text-align: right;\">\n",
       "      <th></th>\n",
       "      <th>1000</th>\n",
       "      <th>750</th>\n",
       "      <th>500</th>\n",
       "      <th>250</th>\n",
       "      <th>100</th>\n",
       "    </tr>\n",
       "  </thead>\n",
       "  <tbody>\n",
       "    <tr>\n",
       "      <td>0</td>\n",
       "      <td>2.0</td>\n",
       "      <td>2.0</td>\n",
       "      <td>3.0</td>\n",
       "      <td>4.0</td>\n",
       "      <td>6.0</td>\n",
       "    </tr>\n",
       "    <tr>\n",
       "      <td>1</td>\n",
       "      <td>2.0</td>\n",
       "      <td>3.0</td>\n",
       "      <td>4.0</td>\n",
       "      <td>5.0</td>\n",
       "      <td>8.0</td>\n",
       "    </tr>\n",
       "    <tr>\n",
       "      <td>2</td>\n",
       "      <td>3.0</td>\n",
       "      <td>3.0</td>\n",
       "      <td>4.0</td>\n",
       "      <td>6.0</td>\n",
       "      <td>9.0</td>\n",
       "    </tr>\n",
       "    <tr>\n",
       "      <td>3</td>\n",
       "      <td>3.0</td>\n",
       "      <td>4.0</td>\n",
       "      <td>4.0</td>\n",
       "      <td>6.0</td>\n",
       "      <td>10.0</td>\n",
       "    </tr>\n",
       "    <tr>\n",
       "      <td>4</td>\n",
       "      <td>3.0</td>\n",
       "      <td>4.0</td>\n",
       "      <td>4.0</td>\n",
       "      <td>6.0</td>\n",
       "      <td>10.0</td>\n",
       "    </tr>\n",
       "    <tr>\n",
       "      <td>5</td>\n",
       "      <td>3.0</td>\n",
       "      <td>4.0</td>\n",
       "      <td>4.0</td>\n",
       "      <td>6.0</td>\n",
       "      <td>10.0</td>\n",
       "    </tr>\n",
       "    <tr>\n",
       "      <td>6</td>\n",
       "      <td>3.0</td>\n",
       "      <td>3.0</td>\n",
       "      <td>4.0</td>\n",
       "      <td>6.0</td>\n",
       "      <td>9.0</td>\n",
       "    </tr>\n",
       "    <tr>\n",
       "      <td>7</td>\n",
       "      <td>2.0</td>\n",
       "      <td>3.0</td>\n",
       "      <td>4.0</td>\n",
       "      <td>5.0</td>\n",
       "      <td>8.0</td>\n",
       "    </tr>\n",
       "    <tr>\n",
       "      <td>8</td>\n",
       "      <td>2.0</td>\n",
       "      <td>2.0</td>\n",
       "      <td>3.0</td>\n",
       "      <td>4.0</td>\n",
       "      <td>6.0</td>\n",
       "    </tr>\n",
       "  </tbody>\n",
       "</table>\n",
       "</div>"
      ],
      "text/plain": [
       "   1000  750  500  250   100\n",
       "0   2.0  2.0  3.0  4.0   6.0\n",
       "1   2.0  3.0  4.0  5.0   8.0\n",
       "2   3.0  3.0  4.0  6.0   9.0\n",
       "3   3.0  4.0  4.0  6.0  10.0\n",
       "4   3.0  4.0  4.0  6.0  10.0\n",
       "5   3.0  4.0  4.0  6.0  10.0\n",
       "6   3.0  3.0  4.0  6.0   9.0\n",
       "7   2.0  3.0  4.0  5.0   8.0\n",
       "8   2.0  2.0  3.0  4.0   6.0"
      ]
     },
     "execution_count": 17,
     "metadata": {},
     "output_type": "execute_result"
    }
   ],
   "source": [
    "import pandas as pd\n",
    "pd.DataFrame(np.array(table).T, columns=[\"1000\", \"750\", \"500\",\"250\", \"100\"])"
   ]
  }
 ],
 "metadata": {
  "kernelspec": {
   "display_name": "Python 3",
   "language": "python",
   "name": "python3"
  },
  "language_info": {
   "codemirror_mode": {
    "name": "ipython",
    "version": 3
   },
   "file_extension": ".py",
   "mimetype": "text/x-python",
   "name": "python",
   "nbconvert_exporter": "python",
   "pygments_lexer": "ipython3",
   "version": "3.6.9"
  }
 },
 "nbformat": 4,
 "nbformat_minor": 2
}
