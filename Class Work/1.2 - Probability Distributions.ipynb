{
 "cells": [
  {
   "cell_type": "code",
   "execution_count": 46,
   "metadata": {},
   "outputs": [
    {
     "name": "stdout",
     "output_type": "stream",
     "text": [
      "Cos(x)/(2Sin(1)), x∈{-1, 1}\n"
     ]
    },
    {
     "data": {
      "text/plain": [
       "0.8540367091367855"
      ]
     },
     "execution_count": 46,
     "metadata": {},
     "output_type": "execute_result"
    }
   ],
   "source": [
    "import math\n",
    "from scipy import integrate\n",
    "\n",
    "class cosine_distribution():\n",
    "    def __init__(self):\n",
    "        self.upper_support = 1\n",
    "        self.lower_support = -1\n",
    "        \n",
    "    def __str__(self):\n",
    "        return \"Cos(x)/(2Sin(1)), x∈{-1, 1}\"\n",
    "    \n",
    "    def pdf(self, x):\n",
    "        if self.lower_support<=x and x <= self.upper_support:\n",
    "            return math.cos(x)/(2*math.sin(1))\n",
    "        return print(\"Error: outside of support for probability distribution. x ∈ {-1, 1}\")\n",
    "    \n",
    "    def cdf(self, x):\n",
    "        if self.lower_support<=x and x <= self.upper_support:\n",
    "            return 1/2 * (1+math.sin(1)*math.sin(x))\n",
    "        return print(\"Error: outside of support for probability distribution. x ∈ {-1, 1}\")\n",
    "        \n",
    "        \n",
    "    \n",
    "f = cosine_distribution()\n",
    "f.pdf(1)\n",
    "print(f)\n",
    "f.cdf(1)"
   ]
  },
  {
   "cell_type": "code",
   "execution_count": null,
   "metadata": {
    "collapsed": true
   },
   "outputs": [],
   "source": []
  }
 ],
 "metadata": {
  "kernelspec": {
   "display_name": "Python 3",
   "language": "python",
   "name": "python3"
  },
  "language_info": {
   "codemirror_mode": {
    "name": "ipython",
    "version": 3
   },
   "file_extension": ".py",
   "mimetype": "text/x-python",
   "name": "python",
   "nbconvert_exporter": "python",
   "pygments_lexer": "ipython3",
   "version": "3.6.9"
  }
 },
 "nbformat": 4,
 "nbformat_minor": 2
}
