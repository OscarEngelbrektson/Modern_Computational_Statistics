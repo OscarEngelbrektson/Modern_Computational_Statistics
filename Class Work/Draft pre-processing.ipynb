{
 "cells": [
  {
   "cell_type": "code",
   "execution_count": 3,
   "metadata": {},
   "outputs": [],
   "source": [
    "import pystan\n",
    "import pandas as pd\n",
    "import numpy as np\n",
    "import matplotlib.pyplot as plt\n",
    "import scipy.stats as sts"
   ]
  },
  {
   "cell_type": "code",
   "execution_count": 4,
   "metadata": {},
   "outputs": [],
   "source": [
    "df = pd.read_csv(\"/Users/oscarengelbrektson/Downloads/CS146 LBA data gathering (Fall 2019) (Responses) - Form Responses 1 (1).csv\",\n",
    "                header=1)"
   ]
  },
  {
   "cell_type": "code",
   "execution_count": 5,
   "metadata": {},
   "outputs": [
    {
     "data": {
      "text/plain": [
       "'ALDI'"
      ]
     },
     "execution_count": 5,
     "metadata": {},
     "output_type": "execute_result"
    }
   ],
   "source": [
    "df.iloc[1, 3]"
   ]
  },
  {
   "cell_type": "markdown",
   "metadata": {},
   "source": [
    "The desired outcome is a dataset with one row per observation. For each observation there should be a column representing the outcome variable, price, and the predictor variables, food, location, store, respectively.\n",
    "\n",
    "To convert the above dataset to this desired format the following steps are taken:\n",
    "1. We normalize each product price by dividing by quantity.\n",
    "2. Currently each row contains up to 3 observations for each of the 10 foods. For every food, we iterate over the three observations reported by each student at each location\n",
    "3. Take note of the store and the location at where the observation was recorded\n",
    "4. Add it as a row in the new dataset\n",
    "5. This procedure assumes that each student recorded 3 products/observations for every foods. This is not always the case, if there were not 3 observations students were asked to leave the price empty. Hence, to remove these non-observations, we delete all rows were the price is Nan/missing."
   ]
  },
  {
   "cell_type": "code",
   "execution_count": null,
   "metadata": {},
   "outputs": [],
   "source": [
    "column_names = [\"Price\", \"Food\", \"Location\", \"Store\"]\n",
    "data = pd.DataFrame(columns=column_names)\n",
    "\n",
    "quantity_col_indexes = list(range(5, len(df.columns), 2))\n",
    "for row in range(len(df)):\n",
    "    for i in quantity_col_indexes:\n",
    "        prices.append(df.iloc[row,i+1]/df.iloc[row,i])\n",
    "        foods.append(df.iloc[row])\n",
    "\n",
    "col_to_food = {5:\"Apples\", 11:\"Bananas\", 17:\"Tomatoes\", 23:\"Potatoes\", 29:\"Flour, white\", \n",
    "         35:\"Rice, basmati\", 41:\"Milk, full cream\", 47:\"Butter\", 53:\"Eggs\", 59:\"Chicken breasts\"}\n",
    "    \n",
    "\n",
    "foods = [\"Apples\", \"Bananas\", \"Tomatoes\", \"Potatoes\", \"Flour, white\", \n",
    "         \"Rice, basmati\", \"Milk, full cream\", \"Butter\", \"Eggs\", \"Chicken breasts\"]\n",
    "\n",
    "quantity_col_indexes = list(range(5, len(df.columns), 2))\n",
    "for i in quantity_col_indexes:\n",
    "    df.iloc[:,i+1] = df.iloc[:,i+1]/df.iloc[:,i]\n",
    "\n",
    "#Drop quantity columns\n",
    "df.drop(df.columns[quantity_col_indexes], axis=1, inplace=True)\n",
    "food_prices = {}\n",
    "for i in range(len(foods)):\n",
    "    #get prices for each food product\n",
    "    prices = df.iloc[:,5+3*i:5+3*i+3].values.flatten()\n",
    "    \n",
    "    #Remove nan entries and add to dictionary\n",
    "    food_prices[foods[i]] = prices[~np.isnan(prices)]"
   ]
  },
  {
   "cell_type": "code",
   "execution_count": 14,
   "metadata": {},
   "outputs": [],
   "source": [
    "prices, foods, locations, stores = [], [], [], []\n",
    "col_to_food = {5:\"Apples\", 11:\"Bananas\", 17:\"Tomatoes\", 23:\"Potatoes\", 29:\"Flour, white\", \n",
    "         35:\"Rice, basmati\", 41:\"Milk, full cream\", 47:\"Butter\", 53:\"Eggs\", 59:\"Chicken breasts\"}\n",
    "\n",
    "quantity_col_indexes = list(range(5, len(df.columns), 6))\n",
    "for i in quantity_col_indexes:\n",
    "    food = col_to_food[i]\n",
    "    \n",
    "    for row in range(len(df)):\n",
    "        location = df.iloc[row, 4]\n",
    "        store = df.iloc[row, 3]\n",
    "        \n",
    "        #3 products for every food\n",
    "        for j in range(0, 6, 2):\n",
    "            \n",
    "            normalized_price = df.iloc[row, i+j]/df.iloc[row, i+j+1]\n",
    "            \n",
    "            #Record values\n",
    "            if not np.isnan(normalized_price):\n",
    "                prices.append(normalized_price)\n",
    "                foods.append(food)\n",
    "                locations.append(location)\n",
    "                stores.append(store)"
   ]
  },
  {
   "cell_type": "code",
   "execution_count": 15,
   "metadata": {},
   "outputs": [],
   "source": [
    "dataset = pd.DataFrame()\n",
    "dataset[\"prices\"] = prices\n",
    "dataset[\"foods\"] = foods\n",
    "dataset[\"locations\"] = locations\n",
    "dataset[\"stores\"] = stores"
   ]
  },
  {
   "cell_type": "code",
   "execution_count": 16,
   "metadata": {},
   "outputs": [
    {
     "data": {
      "text/html": [
       "<div>\n",
       "<style scoped>\n",
       "    .dataframe tbody tr th:only-of-type {\n",
       "        vertical-align: middle;\n",
       "    }\n",
       "\n",
       "    .dataframe tbody tr th {\n",
       "        vertical-align: top;\n",
       "    }\n",
       "\n",
       "    .dataframe thead th {\n",
       "        text-align: right;\n",
       "    }\n",
       "</style>\n",
       "<table border=\"1\" class=\"dataframe\">\n",
       "  <thead>\n",
       "    <tr style=\"text-align: right;\">\n",
       "      <th></th>\n",
       "      <th>prices</th>\n",
       "      <th>foods</th>\n",
       "      <th>locations</th>\n",
       "      <th>stores</th>\n",
       "    </tr>\n",
       "  </thead>\n",
       "  <tbody>\n",
       "    <tr>\n",
       "      <td>0</td>\n",
       "      <td>0.400000</td>\n",
       "      <td>Apples</td>\n",
       "      <td>Rummelsburger Str. 98</td>\n",
       "      <td>ALDI</td>\n",
       "    </tr>\n",
       "    <tr>\n",
       "      <td>1</td>\n",
       "      <td>0.531915</td>\n",
       "      <td>Apples</td>\n",
       "      <td>Rummelsburger Str. 98</td>\n",
       "      <td>ALDI</td>\n",
       "    </tr>\n",
       "    <tr>\n",
       "      <td>2</td>\n",
       "      <td>0.317460</td>\n",
       "      <td>Apples</td>\n",
       "      <td>Rummelsburger Str. 98</td>\n",
       "      <td>ALDI</td>\n",
       "    </tr>\n",
       "    <tr>\n",
       "      <td>3</td>\n",
       "      <td>0.401606</td>\n",
       "      <td>Apples</td>\n",
       "      <td>Karl-Marx-Straße 92-98</td>\n",
       "      <td>REWE</td>\n",
       "    </tr>\n",
       "    <tr>\n",
       "      <td>4</td>\n",
       "      <td>0.671141</td>\n",
       "      <td>Apples</td>\n",
       "      <td>Karl-Marx-Straße 92-98</td>\n",
       "      <td>REWE</td>\n",
       "    </tr>\n",
       "  </tbody>\n",
       "</table>\n",
       "</div>"
      ],
      "text/plain": [
       "     prices   foods               locations stores\n",
       "0  0.400000  Apples   Rummelsburger Str. 98   ALDI\n",
       "1  0.531915  Apples   Rummelsburger Str. 98   ALDI\n",
       "2  0.317460  Apples   Rummelsburger Str. 98   ALDI\n",
       "3  0.401606  Apples  Karl-Marx-Straße 92-98   REWE\n",
       "4  0.671141  Apples  Karl-Marx-Straße 92-98   REWE"
      ]
     },
     "execution_count": 16,
     "metadata": {},
     "output_type": "execute_result"
    }
   ],
   "source": [
    "dataset.head()"
   ]
  },
  {
   "cell_type": "code",
   "execution_count": null,
   "metadata": {},
   "outputs": [],
   "source": [
    "for row in range(len(df)):\n",
    "    for i in quantity_col_indexes:\n",
    "        prices.append(df.iloc[row,i+1]/df.iloc[row,i])\n",
    "        foods.append(df.iloc[row])"
   ]
  },
  {
   "cell_type": "code",
   "execution_count": null,
   "metadata": {},
   "outputs": [],
   "source": [
    "list(zip(prices, foods, locations, stores))"
   ]
  },
  {
   "cell_type": "code",
   "execution_count": null,
   "metadata": {},
   "outputs": [],
   "source": [
    "np.array([[1, 2, 3, 4], [5, 6, 7, 8]]).T"
   ]
  },
  {
   "cell_type": "code",
   "execution_count": null,
   "metadata": {},
   "outputs": [],
   "source": [
    "dataset = []\n",
    "\n",
    "for item in goods:\n",
    "    for _, row in data.iterrows():\n",
    "        for i in range(1, 4):\n",
    "            if not isnan(row[\"{:s}_price_{:d}\".format(item, i)]):\n",
    "                dataset.append([str(item),\n",
    "                                  row[\"{:s}_quantity_{:d}\".format(item, i)], \n",
    "                                  row[\"{:s}_price_{:d}\".format(item, i)], \n",
    "                                  row['Grocery store'], \n",
    "                                  row['Grocery store street address']])\n",
    "\n",
    "dataset = pd.DataFrame(dataset, columns=['Product','Quantity', 'Price', 'Store', 'Location'])\n",
    "dataset.head(10)"
   ]
  },
  {
   "cell_type": "code",
   "execution_count": null,
   "metadata": {},
   "outputs": [],
   "source": [
    "quantity_col_indexes = list(range(5, len(df.columns), 2))\n",
    "for row in range(len(df)):\n",
    "    prices.append(df.iloc[row,2]/df.iloc[row,1])"
   ]
  },
  {
   "cell_type": "code",
   "execution_count": null,
   "metadata": {},
   "outputs": [],
   "source": [
    "#Place the 4 German stores first\n",
    "stores = ['ALDI', 'REWE', 'Lidl', 'EDEKA','Tesco Express', 'Waitrose & Partners',\n",
    "         'Safeway', 'Waitrose', 'Lotte Mart', 'Tesco', \"SAINSBURY'S\",\n",
    "         'Waitrose & Partners ', \"Sainsbury's \", 'Sainsbury', 'Sainsbury‚Äôs ',\n",
    "         'Waitrose & Partners Islington', 'Tesco ']\n",
    "\n",
    "unique_addresses = dataset.location.unique()\n",
    "address_dict = {}\n",
    "postcode_dict = {}\n",
    "\n",
    "rep = re.compile('|'.join(map(re.escape, stores)))\n",
    "for i in range(len(unique_addresses)):\n",
    "    \n",
    "    #If german store and Berlin not in adress, add Berlin at the end\n",
    "    if dataset.iloc[dataset.loc[dataset.location==unique_addresses[i]].index[0], 3] in stores[:4] \\\n",
    "    and 'Berlin' not in unique_addresses[i]:\n",
    "        unique_addresses[i] = unique_addresses[i] + \" Berlin\"\n",
    "        \n",
    "    #If present, remove store name\n",
    "    unique_addresses[i] = rep.sub('', unique_addresses[i])\n",
    "    \n",
    "    #For some reason, the German double \"s\" gets converted to \"√∂\" or \"√ü\" which throws errors\n",
    "    if \"√∂\" in unique_addresses[i]:\n",
    "        unique_addresses[i] = unique_addresses[i].replace(\"√∂\", \"ö\")\n",
    "    if \"√ü\" in unique_addresses[i]:\n",
    "        unique_addresses[i] = unique_addresses[i].replace(\"√ü\", \"ß\")\n",
    "        \n",
    "    #The API doesn't recognize \"Barbican\" in London, so remove it from the location tag\n",
    "    if \"Barbican\" in unique_addresses[i]:\n",
    "        unique_addresses[i] = unique_addresses[i].replace(\"Barbican\", \"\")\n",
    "    \n",
    "    \n",
    "    #Get the full location information and add the relevant pieces to the appropriate dicts\n",
    "    full_location = nom.geocode(unique_addresses[i], addressdetails=True)\n",
    "    postcode_dict[unique_addresses[i]] = full_location.raw['address']['postcode']\n",
    "    \n",
    "    #Location data varies by region\n",
    "    if full_location.raw['address']['country'] == 'Deutschland':\n",
    "        try:\n",
    "            address_dict[unique_addresses[i]] = full_location.raw['address']['city_district']\n",
    "        except KeyError:\n",
    "            address_dict[unique_addresses[i]] = full_location.raw['address']['town']\n",
    "            \n",
    "    elif full_location.raw['address']['country'] == 'United Kingdom':\n",
    "        address_dict[unique_addresses[i]] = full_location.raw['address']['state_district']\n",
    "        \n",
    "    else:\n",
    "        address_dict[unique_addresses[i]] = full_location.raw['address']['city']"
   ]
  },
  {
   "cell_type": "code",
   "execution_count": null,
   "metadata": {},
   "outputs": [],
   "source": [
    "stan_code = \"\"\"\n",
    "\n",
    "data {\n",
    "    int<lower=0> n;\n",
    "    real<lower=0> price[n];\n",
    "    \n",
    "    int<lower=0> p;\n",
    "    int<lower=1> product[n];\n",
    "    \n",
    "    int<lower=0> s;\n",
    "    int<lower=1> store[n];\n",
    "    \n",
    "    int<lower=0> l;\n",
    "    int<lower=1> location[n];\n",
    "}\n",
    "\n",
    "parameters {\n",
    "    real<lower=0> sigma;\n",
    "    \n",
    "    real<lower=0> base_price[p];\n",
    "    real<lower=0> s_multiplier[s];\n",
    "    real<lower=0> l_multiplier[l];\n",
    "}\n",
    "\n",
    "model {\n",
    "\n",
    "    base_price ~ cauchy(0, 10);\n",
    "    sigma ~ normal(0, 1);\n",
    "    \n",
    "    s_multiplier ~ lognormal(0, .5);\n",
    "    l_multiplier ~ lognormal(0, .5);\n",
    "    \n",
    "    for(i in 1:n) {\n",
    "        price[i] ~ normal(base_price[product[i]] \n",
    "        * (s_multiplier[store[i]]) \n",
    "        * (l_multiplier[location[i]]), sigma);}\n",
    "        \n",
    "}\n",
    "\"\"\""
   ]
  }
 ],
 "metadata": {
  "kernelspec": {
   "display_name": "Python 3",
   "language": "python",
   "name": "python3"
  },
  "language_info": {
   "codemirror_mode": {
    "name": "ipython",
    "version": 3
   },
   "file_extension": ".py",
   "mimetype": "text/x-python",
   "name": "python",
   "nbconvert_exporter": "python",
   "pygments_lexer": "ipython3",
   "version": "3.6.9"
  }
 },
 "nbformat": 4,
 "nbformat_minor": 2
}
