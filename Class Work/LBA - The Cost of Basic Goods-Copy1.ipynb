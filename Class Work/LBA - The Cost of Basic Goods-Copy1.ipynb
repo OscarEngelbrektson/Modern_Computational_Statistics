{
 "cells": [
  {
   "cell_type": "markdown",
   "metadata": {},
   "source": [
    "https://mc-stan.org/docs/2_18/stan-users-guide/multivariate-hierarchical-priors-section.html\n",
    "    \n",
    "Approach: \n",
    "Predict price using food type, store location, and store brand.\n",
    "\n",
    "Outcome variable: Price\n",
    "\n",
    "Predictors: food type, store location, store brand\n",
    "\n",
    "P(x|food, location, store) = N(food | mean, sd) * N(location | mean, sd) * N(store | ) "
   ]
  },
  {
   "cell_type": "markdown",
   "metadata": {},
   "source": [
    "Only three products per food could be reported in the survey. Thus, in the case where a store sold more than 3 products for one type of food, only a subset of products could be reported in the survey. We make the assumption that the products chosen were chosen at random. Accross all the students, this seems to be a plausible assumptions: even though individual students may have biases towards choosing e.g. cheaper products, I see no reason to believe these individual biases to be systematically correlated and thus should be okay on a per food basis as the number of students is large. However, for answering later questions where the number of students reporting is smaller, such as geographical relevance, individual bias may affect our affect our estimates.\n",
    "\n",
    "Furthermore, if a store has a broad range of offerings for every food, i.e. both cheap and expensive versions, taking the average for the store brand could paint a misleading picture. For example, if a store offers a more exclusive line of products alongside cheaper brands offered at all stores, that would drag the base price multiplier up indicating that it is more expensive store. This could indicate that the store is not a good place to go if one cares about getting cheap food. In reality, however, it is just as cheap as other stores - but it also offers the alternative to buy more exclusive products should one want!"
   ]
  },
  {
   "cell_type": "code",
   "execution_count": 256,
   "metadata": {},
   "outputs": [],
   "source": [
    "import pystan\n",
    "import pandas as pd\n",
    "import numpy as np\n",
    "import matplotlib.pyplot as plt\n",
    "import scipy.stats as sts"
   ]
  },
  {
   "cell_type": "code",
   "execution_count": 310,
   "metadata": {},
   "outputs": [],
   "source": [
    "df = pd.read_csv(\"/Users/oscarengelbrektson/Downloads/CS146 LBA data gathering (Fall 2019) (Responses) - Form Responses 1 (2).csv\",\n",
    "                header=1)"
   ]
  },
  {
   "cell_type": "code",
   "execution_count": 306,
   "metadata": {
    "scrolled": true
   },
   "outputs": [
    {
     "data": {
      "text/html": [
       "<div>\n",
       "<style scoped>\n",
       "    .dataframe tbody tr th:only-of-type {\n",
       "        vertical-align: middle;\n",
       "    }\n",
       "\n",
       "    .dataframe tbody tr th {\n",
       "        vertical-align: top;\n",
       "    }\n",
       "\n",
       "    .dataframe thead th {\n",
       "        text-align: right;\n",
       "    }\n",
       "</style>\n",
       "<table border=\"1\" class=\"dataframe\">\n",
       "  <thead>\n",
       "    <tr style=\"text-align: right;\">\n",
       "      <th></th>\n",
       "      <th>Timestamp</th>\n",
       "      <th>Email Address</th>\n",
       "      <th>Your name</th>\n",
       "      <th>Grocery store</th>\n",
       "      <th>Grocery store street address</th>\n",
       "      <th>Product 1 quantity (kg)</th>\n",
       "      <th>Product 1 price (€)</th>\n",
       "      <th>Product 2 quantity (kg)</th>\n",
       "      <th>Product 2 price (€)</th>\n",
       "      <th>Product 3 quantity (kg)</th>\n",
       "      <th>...</th>\n",
       "      <th>Product 2 quantity (count)</th>\n",
       "      <th>Product 2 price (€).8</th>\n",
       "      <th>Product 3 quantity (count)</th>\n",
       "      <th>Product 3 price (€).8</th>\n",
       "      <th>Product 1 quantity (kg).7</th>\n",
       "      <th>Product 1 price (€).9</th>\n",
       "      <th>Product 2 quantity (kg).7</th>\n",
       "      <th>Product 2 price (€).9</th>\n",
       "      <th>Product 3 quantity (kg).7</th>\n",
       "      <th>Product 3 price (€).9</th>\n",
       "    </tr>\n",
       "  </thead>\n",
       "  <tbody>\n",
       "    <tr>\n",
       "      <td>0</td>\n",
       "      <td>NaN</td>\n",
       "      <td>NaN</td>\n",
       "      <td>NaN</td>\n",
       "      <td>NaN</td>\n",
       "      <td>NaN</td>\n",
       "      <td>NaN</td>\n",
       "      <td>NaN</td>\n",
       "      <td>NaN</td>\n",
       "      <td>NaN</td>\n",
       "      <td>NaN</td>\n",
       "      <td>...</td>\n",
       "      <td>NaN</td>\n",
       "      <td>NaN</td>\n",
       "      <td>NaN</td>\n",
       "      <td>NaN</td>\n",
       "      <td>NaN</td>\n",
       "      <td>NaN</td>\n",
       "      <td>NaN</td>\n",
       "      <td>NaN</td>\n",
       "      <td>NaN</td>\n",
       "      <td>NaN</td>\n",
       "    </tr>\n",
       "    <tr>\n",
       "      <td>1</td>\n",
       "      <td>10/28/2019 13:14:59</td>\n",
       "      <td>brian.swanberg@minerva.kgi.edu</td>\n",
       "      <td>Brian Swanberg</td>\n",
       "      <td>ALDI</td>\n",
       "      <td>Rummelsburger Str. 98</td>\n",
       "      <td>0.88</td>\n",
       "      <td>2.20</td>\n",
       "      <td>1.0</td>\n",
       "      <td>1.88</td>\n",
       "      <td>0.6</td>\n",
       "      <td>...</td>\n",
       "      <td>6.0</td>\n",
       "      <td>1.59</td>\n",
       "      <td>10.0</td>\n",
       "      <td>1.59</td>\n",
       "      <td>0.6</td>\n",
       "      <td>3.99</td>\n",
       "      <td>1.0</td>\n",
       "      <td>5.99</td>\n",
       "      <td>NaN</td>\n",
       "      <td>NaN</td>\n",
       "    </tr>\n",
       "    <tr>\n",
       "      <td>2</td>\n",
       "      <td>10/29/2019 14:19:19</td>\n",
       "      <td>emma.stiefel@minerva.kgi.edu</td>\n",
       "      <td>Emma Stiefel</td>\n",
       "      <td>REWE</td>\n",
       "      <td>Karl-Marx-Straße 92-98</td>\n",
       "      <td>1.00</td>\n",
       "      <td>2.49</td>\n",
       "      <td>1.0</td>\n",
       "      <td>1.49</td>\n",
       "      <td>1.0</td>\n",
       "      <td>...</td>\n",
       "      <td>1.0</td>\n",
       "      <td>0.25</td>\n",
       "      <td>6.0</td>\n",
       "      <td>1.59</td>\n",
       "      <td>1.0</td>\n",
       "      <td>13.90</td>\n",
       "      <td>1.0</td>\n",
       "      <td>9.99</td>\n",
       "      <td>1.0</td>\n",
       "      <td>9.98</td>\n",
       "    </tr>\n",
       "    <tr>\n",
       "      <td>3</td>\n",
       "      <td>10/29/2019 21:22:30,taha@minerva.kgi.edu,Taha,...</td>\n",
       "      <td>NaN</td>\n",
       "      <td>NaN</td>\n",
       "      <td>NaN</td>\n",
       "      <td>NaN</td>\n",
       "      <td>NaN</td>\n",
       "      <td>NaN</td>\n",
       "      <td>NaN</td>\n",
       "      <td>NaN</td>\n",
       "      <td>NaN</td>\n",
       "      <td>...</td>\n",
       "      <td>NaN</td>\n",
       "      <td>NaN</td>\n",
       "      <td>NaN</td>\n",
       "      <td>NaN</td>\n",
       "      <td>NaN</td>\n",
       "      <td>NaN</td>\n",
       "      <td>NaN</td>\n",
       "      <td>NaN</td>\n",
       "      <td>NaN</td>\n",
       "      <td>NaN</td>\n",
       "    </tr>\n",
       "    <tr>\n",
       "      <td>4</td>\n",
       "      <td>10/30/2019 16:20:11,michaelchen@minerva.kgi.ed...</td>\n",
       "      <td>NaN</td>\n",
       "      <td>NaN</td>\n",
       "      <td>NaN</td>\n",
       "      <td>NaN</td>\n",
       "      <td>NaN</td>\n",
       "      <td>NaN</td>\n",
       "      <td>NaN</td>\n",
       "      <td>NaN</td>\n",
       "      <td>NaN</td>\n",
       "      <td>...</td>\n",
       "      <td>NaN</td>\n",
       "      <td>NaN</td>\n",
       "      <td>NaN</td>\n",
       "      <td>NaN</td>\n",
       "      <td>NaN</td>\n",
       "      <td>NaN</td>\n",
       "      <td>NaN</td>\n",
       "      <td>NaN</td>\n",
       "      <td>NaN</td>\n",
       "      <td>NaN</td>\n",
       "    </tr>\n",
       "  </tbody>\n",
       "</table>\n",
       "<p>5 rows × 65 columns</p>\n",
       "</div>"
      ],
      "text/plain": [
       "                                           Timestamp  \\\n",
       "0                                                NaN   \n",
       "1                                10/28/2019 13:14:59   \n",
       "2                                10/29/2019 14:19:19   \n",
       "3  10/29/2019 21:22:30,taha@minerva.kgi.edu,Taha,...   \n",
       "4  10/30/2019 16:20:11,michaelchen@minerva.kgi.ed...   \n",
       "\n",
       "                    Email Address       Your name Grocery store  \\\n",
       "0                             NaN             NaN           NaN   \n",
       "1  brian.swanberg@minerva.kgi.edu  Brian Swanberg          ALDI   \n",
       "2    emma.stiefel@minerva.kgi.edu    Emma Stiefel          REWE   \n",
       "3                             NaN             NaN           NaN   \n",
       "4                             NaN             NaN           NaN   \n",
       "\n",
       "  Grocery store street address  Product 1 quantity (kg)  Product 1 price (€)  \\\n",
       "0                          NaN                      NaN                  NaN   \n",
       "1        Rummelsburger Str. 98                     0.88                 2.20   \n",
       "2       Karl-Marx-Straße 92-98                     1.00                 2.49   \n",
       "3                          NaN                      NaN                  NaN   \n",
       "4                          NaN                      NaN                  NaN   \n",
       "\n",
       "   Product 2 quantity (kg)  Product 2 price (€)  Product 3 quantity (kg)  ...  \\\n",
       "0                      NaN                  NaN                      NaN  ...   \n",
       "1                      1.0                 1.88                      0.6  ...   \n",
       "2                      1.0                 1.49                      1.0  ...   \n",
       "3                      NaN                  NaN                      NaN  ...   \n",
       "4                      NaN                  NaN                      NaN  ...   \n",
       "\n",
       "   Product 2 quantity (count)  Product 2 price (€).8  \\\n",
       "0                         NaN                    NaN   \n",
       "1                         6.0                   1.59   \n",
       "2                         1.0                   0.25   \n",
       "3                         NaN                    NaN   \n",
       "4                         NaN                    NaN   \n",
       "\n",
       "   Product 3 quantity (count)  Product 3 price (€).8  \\\n",
       "0                         NaN                    NaN   \n",
       "1                        10.0                   1.59   \n",
       "2                         6.0                   1.59   \n",
       "3                         NaN                    NaN   \n",
       "4                         NaN                    NaN   \n",
       "\n",
       "   Product 1 quantity (kg).7  Product 1 price (€).9  \\\n",
       "0                        NaN                    NaN   \n",
       "1                        0.6                   3.99   \n",
       "2                        1.0                  13.90   \n",
       "3                        NaN                    NaN   \n",
       "4                        NaN                    NaN   \n",
       "\n",
       "   Product 2 quantity (kg).7  Product 2 price (€).9  \\\n",
       "0                        NaN                    NaN   \n",
       "1                        1.0                   5.99   \n",
       "2                        1.0                   9.99   \n",
       "3                        NaN                    NaN   \n",
       "4                        NaN                    NaN   \n",
       "\n",
       "   Product 3 quantity (kg).7  Product 3 price (€).9  \n",
       "0                        NaN                    NaN  \n",
       "1                        NaN                    NaN  \n",
       "2                        1.0                   9.98  \n",
       "3                        NaN                    NaN  \n",
       "4                        NaN                    NaN  \n",
       "\n",
       "[5 rows x 65 columns]"
      ]
     },
     "execution_count": 306,
     "metadata": {},
     "output_type": "execute_result"
    }
   ],
   "source": [
    "df.head()"
   ]
  },
  {
   "cell_type": "markdown",
   "metadata": {},
   "source": [
    "# What is the basic average price for each product? \n",
    "\n",
    "In the data submission questionnaire, the unit of price (currency) was specified for each product. Given that the 3 currencies represented in m20 and m21 rotations–GBP, EUR and USD–are all similar in value, there is no way to know whether an unusual price is based on incorrect currency specification or a specific store/location being priced that way. Consequently, I will proceed on the assumption that data were correctly reported by my classmates, and thus that all prices were reported in EUR.\n",
    "\n",
    "Approach to getting the prices for each food:\n",
    "Goal: For each product, a list of all recorded prices for one unit of the product.\n",
    "1. For every product, normalize price by quanitity so as to get price/1unit.\n",
    "2. For every food, make a list of all product prices.\n",
    "\n",
    "After this, we are ready perform bayesian inference to derive the average price for each product."
   ]
  },
  {
   "cell_type": "markdown",
   "metadata": {},
   "source": [
    "### 1. Normalizing price by quanitity\n",
    "The unit of quantity was specified for each product. The estimation of base price then, will be expressed on a per unit basis. For example, the estimated base price of bananas will be expressed on a per kilo basis. To achieve this, we begin by normalizing each product price by the product quantity. For example, Brian reported that 0.88kg's of apples sold at a price of €2.2, we calculate 2.2/0.88 to get price/kg. In the case where the reported quantity is 1, this will have no effect.\n",
    "\n",
    "\n",
    "Starting on the 5th column, all subsequent columns are quantity-price pairs. That is, all odd columns will represent quantities, and the column just after will represent the corresponding price. We use this to iterate over the columns and rows with columns, dividing price/quantity.\n",
    "\n",
    "We then drop the quantity columns as all prices will be expressed in terms of one unit of quantity, meaning they no longer have any value."
   ]
  },
  {
   "cell_type": "code",
   "execution_count": 284,
   "metadata": {},
   "outputs": [],
   "source": [
    "quantity_col_indexes = list(range(5, len(df.columns), 2))\n",
    "for i in quantity_col_indexes:\n",
    "    df.iloc[:,i+1] = df.iloc[:,i+1]/df.iloc[:,i]\n",
    "\n",
    "#Drop quantity columns\n",
    "#df.drop(df.columns[quantity_col_indexes], axis=1, inplace=True)"
   ]
  },
  {
   "cell_type": "markdown",
   "metadata": {},
   "source": [
    "### 2. Making a list of product prices for each food\n",
    "\n",
    "We know that each food now has three product columns each with price/unit. The first food is in column 5. We use this to create a list of prices for each food.\n",
    "If an entry is Nan, we omit it as it represents product that does not exist."
   ]
  },
  {
   "cell_type": "code",
   "execution_count": 285,
   "metadata": {},
   "outputs": [],
   "source": [
    "foods = [\"Apples\", \"Bananas\", \"Tomatoes\", \"Potatoes\", \"Flour, white\", \n",
    "         \"Rice, basmati\", \"Milk, full cream\", \"Butter\", \"Eggs\", \"Chicken breasts\"]\n",
    "\n",
    "food_prices = {}\n",
    "for i in range(len(foods)):\n",
    "    #get prices for each food product\n",
    "    prices = df.iloc[:,5+3*i:5+3*i+3].values.flatten()\n",
    "    \n",
    "    #Remove nan entries and add to dictionary\n",
    "    food_prices[foods[i]] = prices[~np.isnan(prices)]"
   ]
  },
  {
   "cell_type": "code",
   "execution_count": 308,
   "metadata": {},
   "outputs": [
    {
     "name": "stdout",
     "output_type": "stream",
     "text": [
      "72\n"
     ]
    },
    {
     "data": {
      "text/plain": [
       "72"
      ]
     },
     "execution_count": 308,
     "metadata": {},
     "output_type": "execute_result"
    }
   ],
   "source": [
    "print(len(dataset[\"price\"].loc[dataset[\"food\"]==\"Apples\"]))\n",
    "len(food_prices[\"Apples\"])"
   ]
  },
  {
   "cell_type": "code",
   "execution_count": 312,
   "metadata": {},
   "outputs": [
    {
     "data": {
      "text/plain": [
       "649"
      ]
     },
     "execution_count": 312,
     "metadata": {},
     "output_type": "execute_result"
    }
   ],
   "source": [
    "len(dataset)"
   ]
  },
  {
   "cell_type": "code",
   "execution_count": 298,
   "metadata": {},
   "outputs": [
    {
     "data": {
      "text/plain": [
       "(array([18., 14., 22.,  6.,  4.,  3.,  0.,  2.,  2.,  1.]),\n",
       " array([1.145     , 1.78633333, 2.42766667, 3.069     , 3.71033333,\n",
       "        4.35166667, 4.993     , 5.63433333, 6.27566667, 6.917     ,\n",
       "        7.55833333]),\n",
       " <a list of 10 Patch objects>)"
      ]
     },
     "execution_count": 298,
     "metadata": {},
     "output_type": "execute_result"
    },
    {
     "data": {
      "image/png": "[encoded data removed]",
      "text/plain": [
       "<Figure size 432x288 with 1 Axes>"
      ]
     },
     "metadata": {
      "needs_background": "light"
     },
     "output_type": "display_data"
    }
   ],
   "source": [
    "plt.hist(food_prices[\"Apples\"], alpha=0.5)\n",
    "plt.hist(dataset[\"price\"].loc[dataset[\"food\"]==\"Apples\"], alpha=0.5)"
   ]
  },
  {
   "cell_type": "code",
   "execution_count": 313,
   "metadata": {},
   "outputs": [
    {
     "data": {
      "text/html": [
       "<div>\n",
       "<style scoped>\n",
       "    .dataframe tbody tr th:only-of-type {\n",
       "        vertical-align: middle;\n",
       "    }\n",
       "\n",
       "    .dataframe tbody tr th {\n",
       "        vertical-align: top;\n",
       "    }\n",
       "\n",
       "    .dataframe thead th {\n",
       "        text-align: right;\n",
       "    }\n",
       "</style>\n",
       "<table border=\"1\" class=\"dataframe\">\n",
       "  <thead>\n",
       "    <tr style=\"text-align: right;\">\n",
       "      <th></th>\n",
       "      <th>price</th>\n",
       "      <th>food</th>\n",
       "      <th>location</th>\n",
       "      <th>store</th>\n",
       "    </tr>\n",
       "  </thead>\n",
       "  <tbody>\n",
       "    <tr>\n",
       "      <td>0</td>\n",
       "      <td>2.50</td>\n",
       "      <td>Apples</td>\n",
       "      <td>Rummelsburger Str. 98</td>\n",
       "      <td>ALDI</td>\n",
       "    </tr>\n",
       "    <tr>\n",
       "      <td>1</td>\n",
       "      <td>1.88</td>\n",
       "      <td>Apples</td>\n",
       "      <td>Rummelsburger Str. 98</td>\n",
       "      <td>ALDI</td>\n",
       "    </tr>\n",
       "    <tr>\n",
       "      <td>2</td>\n",
       "      <td>3.15</td>\n",
       "      <td>Apples</td>\n",
       "      <td>Rummelsburger Str. 98</td>\n",
       "      <td>ALDI</td>\n",
       "    </tr>\n",
       "    <tr>\n",
       "      <td>3</td>\n",
       "      <td>2.49</td>\n",
       "      <td>Apples</td>\n",
       "      <td>Karl-Marx-Straße 92-98</td>\n",
       "      <td>REWE</td>\n",
       "    </tr>\n",
       "    <tr>\n",
       "      <td>4</td>\n",
       "      <td>1.49</td>\n",
       "      <td>Apples</td>\n",
       "      <td>Karl-Marx-Straße 92-98</td>\n",
       "      <td>REWE</td>\n",
       "    </tr>\n",
       "  </tbody>\n",
       "</table>\n",
       "</div>"
      ],
      "text/plain": [
       "   price    food                location store\n",
       "0   2.50  Apples   Rummelsburger Str. 98  ALDI\n",
       "1   1.88  Apples   Rummelsburger Str. 98  ALDI\n",
       "2   3.15  Apples   Rummelsburger Str. 98  ALDI\n",
       "3   2.49  Apples  Karl-Marx-Straße 92-98  REWE\n",
       "4   1.49  Apples  Karl-Marx-Straße 92-98  REWE"
      ]
     },
     "execution_count": 313,
     "metadata": {},
     "output_type": "execute_result"
    }
   ],
   "source": [
    "prices, foods, locations, stores = [], [], [], []\n",
    "col_to_food = {5:\"Apples\", 11:\"Bananas\", 17:\"Tomatoes\", 23:\"Potatoes\", 29:\"Flour, white\", \n",
    "         35:\"Rice, basmati\", 41:\"Milk, full cream\", 47:\"Butter\", 53:\"Eggs\", 59:\"Chicken breasts\"}\n",
    "\n",
    "quantity_col_indexes = list(range(5, len(df.columns), 6))\n",
    "for i in quantity_col_indexes:\n",
    "    food = col_to_food[i]\n",
    "    \n",
    "    for row in range(len(df)):\n",
    "        location = df.iloc[row, 4]\n",
    "        store = df.iloc[row, 3]\n",
    "        \n",
    "        #3 products for every food\n",
    "        for j in range(0, 6, 2):\n",
    "            \n",
    "            normalized_price = df.iloc[row, i+j+1]/df.iloc[row, i+j]\n",
    "            \n",
    "            #Record values\n",
    "            if not np.isnan(normalized_price):\n",
    "                prices.append(normalized_price)\n",
    "                foods.append(food)\n",
    "                locations.append(location)\n",
    "                stores.append(store)\n",
    "            \n",
    "#Combine lists onto pandas dataframe\n",
    "dataset = pd.DataFrame()\n",
    "dataset[\"price\"] = prices\n",
    "dataset[\"food\"] = foods\n",
    "dataset[\"location\"] = locations\n",
    "dataset[\"store\"] = stores\n",
    "\n",
    "#Step 5, drop non-observations\n",
    "#dataset.dropna()\n",
    "\n",
    "dataset.head()"
   ]
  },
  {
   "cell_type": "markdown",
   "metadata": {},
   "source": [
    "## Modelling the base price of each food"
   ]
  },
  {
   "cell_type": "markdown",
   "metadata": {},
   "source": [
    "Gamma for prior."
   ]
  },
  {
   "cell_type": "code",
   "execution_count": 214,
   "metadata": {},
   "outputs": [],
   "source": [
    "stan_code = \"\"\"\n",
    "data {  \n",
    "    real<lower=0> alpha;  // fixed prior hyperparameter\n",
    "    real<lower=0> beta;   // fixed prior hyperparameter\n",
    "    int<lower=1> n_obs;\n",
    "    real<lower=0> prices[n_obs]; // waiting time data\n",
    "    real<lower=0> sigma;\n",
    "}\n",
    "\n",
    "parameters {\n",
    "    real<lower=0> mu;\n",
    "}\n",
    "model {\n",
    "    mu ~ gamma(alpha, beta);  // prior over lambda\n",
    "    prices ~ lognormal(mu, sigma);\n",
    "}\n",
    "\"\"\""
   ]
  },
  {
   "cell_type": "code",
   "execution_count": 215,
   "metadata": {},
   "outputs": [
    {
     "name": "stderr",
     "output_type": "stream",
     "text": [
      "INFO:pystan:COMPILING THE C++ CODE FOR MODEL anon_model_16cff785b2b10328ffcab5903116e4ab NOW.\n"
     ]
    }
   ],
   "source": [
    "#Compile the model\n",
    "stan_model = pystan.StanModel(model_code=stan_code)"
   ]
  },
  {
   "cell_type": "code",
   "execution_count": 216,
   "metadata": {},
   "outputs": [],
   "source": [
    "data = {\n",
    "    \"alpha\": 1.5,  # fixed prior hyperparameters for the\n",
    "    \"beta\": 1,   # gamma distribution\n",
    "    \"sigma\":1,\n",
    "    \"n_obs\": len(food_prices[\"Apples\"]),\n",
    "    \"prices\": food_prices[\"Apples\"],  # waiting time data\n",
    "}"
   ]
  },
  {
   "cell_type": "code",
   "execution_count": 217,
   "metadata": {},
   "outputs": [],
   "source": [
    "#Sample posterior distribution over lambda\n",
    "stan_results = stan_model.sampling(data = data)"
   ]
  },
  {
   "cell_type": "code",
   "execution_count": 218,
   "metadata": {},
   "outputs": [
    {
     "name": "stdout",
     "output_type": "stream",
     "text": [
      "Inference for Stan model: anon_model_16cff785b2b10328ffcab5903116e4ab.\n",
      "4 chains, each with iter=2000; warmup=1000; thin=1; \n",
      "post-warmup draws per chain=1000, total post-warmup draws=4000.\n",
      "\n",
      "     mean se_mean     sd   2.5%  97.5%  n_eff   Rhat\n",
      "mu   0.88  2.0e-3   0.07   0.74   1.01   1181    1.0\n",
      "\n",
      "Samples were drawn using NUTS at Sun Nov  3 13:40:34 2019.\n",
      "For each parameter, n_eff is a crude measure of effective sample size,\n",
      "and Rhat is the potential scale reduction factor on split chains (at \n",
      "convergence, Rhat=1).\n"
     ]
    }
   ],
   "source": [
    "#Estimate porterior 98% confidence interval over lambda using Stan\n",
    "print(stan_results.stansummary(pars=['mu'], probs=[0.025, 0.975]))"
   ]
  },
  {
   "cell_type": "code",
   "execution_count": 219,
   "metadata": {},
   "outputs": [
    {
     "data": {
      "text/plain": [
       "(array([0.02327602, 0.        , 0.        , 0.        , 0.        ,\n",
       "        0.        , 0.04655204, 0.06982805, 0.13965611, 0.23276018,\n",
       "        0.37241629, 0.37241629, 0.53534842, 0.53534842, 0.90776471,\n",
       "        1.37328507, 1.62932127, 2.49053394, 2.60691404, 2.49053394,\n",
       "        4.02675114, 3.65433485, 4.77158373, 5.3767602 , 5.42331223,\n",
       "        5.42331223, 5.44658825, 5.72590047, 5.81900454, 4.81813576,\n",
       "        5.120724  , 4.0965792 , 3.74743893, 3.02588236, 2.67674209,\n",
       "        1.90863349, 2.35087784, 1.7922534 , 1.46638915, 1.18707693,\n",
       "        0.5120724 , 0.2560362 , 0.23276018, 0.13965611, 0.11638009,\n",
       "        0.06982805, 0.02327602, 0.02327602, 0.02327602, 0.02327602]),\n",
       " array([0.59079207, 0.60153274, 0.61227341, 0.62301408, 0.63375475,\n",
       "        0.64449542, 0.65523608, 0.66597675, 0.67671742, 0.68745809,\n",
       "        0.69819876, 0.70893943, 0.7196801 , 0.73042076, 0.74116143,\n",
       "        0.7519021 , 0.76264277, 0.77338344, 0.78412411, 0.79486478,\n",
       "        0.80560545, 0.81634611, 0.82708678, 0.83782745, 0.84856812,\n",
       "        0.85930879, 0.87004946, 0.88079013, 0.8915308 , 0.90227146,\n",
       "        0.91301213, 0.9237528 , 0.93449347, 0.94523414, 0.95597481,\n",
       "        0.96671548, 0.97745615, 0.98819681, 0.99893748, 1.00967815,\n",
       "        1.02041882, 1.03115949, 1.04190016, 1.05264083, 1.06338149,\n",
       "        1.07412216, 1.08486283, 1.0956035 , 1.10634417, 1.11708484,\n",
       "        1.12782551]),\n",
       " <a list of 50 Patch objects>)"
      ]
     },
     "execution_count": 219,
     "metadata": {},
     "output_type": "execute_result"
    },
    {
     "data": {
      "image/png": "[encoded data removed]",
      "text/plain": [
       "<Figure size 432x288 with 1 Axes>"
      ]
     },
     "metadata": {
      "needs_background": "light"
     },
     "output_type": "display_data"
    }
   ],
   "source": [
    "# Posterior samples from Stan\n",
    "posterior_samples = stan_results.extract()\n",
    "\n",
    "#For the stan samples\n",
    "plt.hist(posterior_samples['mu'], \n",
    "         bins=50, density=True, alpha=0.5, label='Stan')\n",
    "plt.hist()"
   ]
  },
  {
   "cell_type": "code",
   "execution_count": null,
   "metadata": {},
   "outputs": [],
   "source": [
    "x=np.linspace(0, 15, 4000)\n",
    "norms = sts.norm(posterior_samples['mu'],posterior_samples['sigma']).pdf(x)"
   ]
  },
  {
   "cell_type": "code",
   "execution_count": null,
   "metadata": {},
   "outputs": [],
   "source": [
    "#Sampling the posterior distribution over our parameters using Stan\n",
    "mu_samples = stan_results.extract()['mu']\n",
    "sigma2_samples = stan_results.extract()['sigma']\n",
    "\n",
    "#Draw 10 random samples from the set of samples.\n",
    "import random\n",
    "n_samples = 10\n",
    "mu_10 = np.random.choice(mu_samples, n_samples)\n",
    "sigma2_10 = np.random.choice(sigma2_samples, n_samples)\n",
    "\n",
    "#Plot each parameter sample pair\n",
    "plt.figure(figsize=(10, 8))\n",
    "x = np.linspace(0, 15, 1000)\n",
    "for i in range(n_samples):\n",
    "           y = sts.norm.pdf(x, loc=mu_10[i], scale=(sigma2_10[i]))\n",
    "           plt.plot(x, y)\n",
    "plt.title(\"10 normal distributions with parameters sigma and mu sampled from the posterior distribution\")\n",
    "plt.ylabel(\"Density\")\n",
    "plt.xlabel(\"x\")\n",
    "plt.show()"
   ]
  },
  {
   "cell_type": "code",
   "execution_count": 190,
   "metadata": {},
   "outputs": [
    {
     "data": {
      "text/plain": [
       "0.519000830556013"
      ]
     },
     "execution_count": 190,
     "metadata": {},
     "output_type": "execute_result"
    }
   ],
   "source": [
    "mu_samples.mean()"
   ]
  },
  {
   "cell_type": "code",
   "execution_count": 222,
   "metadata": {},
   "outputs": [
    {
     "data": {
      "text/plain": [
       "(array([ 3., 27., 48., 54., 22., 15., 11.,  4.,  4.,  3.,  1.,  3.,  1.,\n",
       "         0.,  0.,  0.,  1.,  1.,  0.,  0.,  1.,  0.,  0.,  1.,  0.,  0.,\n",
       "         0.,  0.,  0.,  2.]),\n",
       " array([ 0.359375  ,  0.92072917,  1.48208333,  2.0434375 ,  2.60479167,\n",
       "         3.16614583,  3.7275    ,  4.28885417,  4.85020833,  5.4115625 ,\n",
       "         5.97291667,  6.53427083,  7.095625  ,  7.65697917,  8.21833333,\n",
       "         8.7796875 ,  9.34104167,  9.90239583, 10.46375   , 11.02510417,\n",
       "        11.58645833, 12.1478125 , 12.70916667, 13.27052083, 13.831875  ,\n",
       "        14.39322917, 14.95458333, 15.5159375 , 16.07729167, 16.63864583,\n",
       "        17.2       ]),\n",
       " <a list of 30 Patch objects>)"
      ]
     },
     "execution_count": 222,
     "metadata": {},
     "output_type": "execute_result"
    },
    {
     "data": {
      "image/png": "[encoded data removed]",
      "text/plain": [
       "<Figure size 432x288 with 1 Axes>"
      ]
     },
     "metadata": {
      "needs_background": "light"
     },
     "output_type": "display_data"
    }
   ],
   "source": [
    "plt.hist(food_prices[\"Apples\"], bins=30)"
   ]
  },
  {
   "cell_type": "code",
   "execution_count": null,
   "metadata": {},
   "outputs": [],
   "source": []
  }
 ],
 "metadata": {
  "kernelspec": {
   "display_name": "Python 3",
   "language": "python",
   "name": "python3"
  },
  "language_info": {
   "codemirror_mode": {
    "name": "ipython",
    "version": 3
   },
   "file_extension": ".py",
   "mimetype": "text/x-python",
   "name": "python",
   "nbconvert_exporter": "python",
   "pygments_lexer": "ipython3",
   "version": "3.6.9"
  }
 },
 "nbformat": 4,
 "nbformat_minor": 2
}
