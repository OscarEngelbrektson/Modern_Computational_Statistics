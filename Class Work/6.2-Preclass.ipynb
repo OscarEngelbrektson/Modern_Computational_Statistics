{
 "cells": [
  {
   "cell_type": "code",
   "execution_count": 10,
   "metadata": {},
   "outputs": [],
   "source": [
    "import numpy as np\n",
    "import pandas as pd\n",
    "import scipy.stats as sts"
   ]
  },
  {
   "cell_type": "code",
   "execution_count": 8,
   "metadata": {},
   "outputs": [],
   "source": [
    "df = pd.read_csv(\"/Users/oscarengelbrektson/Documents/Minerva/CS146 - Stats/socialmobility.csv\", delimiter=\";\")"
   ]
  },
  {
   "cell_type": "code",
   "execution_count": 22,
   "metadata": {},
   "outputs": [
    {
     "data": {
      "text/html": [
       "<div>\n",
       "<style scoped>\n",
       "    .dataframe tbody tr th:only-of-type {\n",
       "        vertical-align: middle;\n",
       "    }\n",
       "\n",
       "    .dataframe tbody tr th {\n",
       "        vertical-align: top;\n",
       "    }\n",
       "\n",
       "    .dataframe thead th {\n",
       "        text-align: right;\n",
       "    }\n",
       "</style>\n",
       "<table border=\"1\" class=\"dataframe\">\n",
       "  <thead>\n",
       "    <tr style=\"text-align: right;\">\n",
       "      <th></th>\n",
       "      <th>father</th>\n",
       "      <th>son</th>\n",
       "      <th>count</th>\n",
       "    </tr>\n",
       "  </thead>\n",
       "  <tbody>\n",
       "    <tr>\n",
       "      <td>0</td>\n",
       "      <td>farm</td>\n",
       "      <td>farm</td>\n",
       "      <td>703</td>\n",
       "    </tr>\n",
       "    <tr>\n",
       "      <td>1</td>\n",
       "      <td>farm</td>\n",
       "      <td>unskilled</td>\n",
       "      <td>1478</td>\n",
       "    </tr>\n",
       "    <tr>\n",
       "      <td>2</td>\n",
       "      <td>farm</td>\n",
       "      <td>skilled</td>\n",
       "      <td>1430</td>\n",
       "    </tr>\n",
       "    <tr>\n",
       "      <td>3</td>\n",
       "      <td>farm</td>\n",
       "      <td>professional</td>\n",
       "      <td>1109</td>\n",
       "    </tr>\n",
       "    <tr>\n",
       "      <td>4</td>\n",
       "      <td>unskilled</td>\n",
       "      <td>farm</td>\n",
       "      <td>58</td>\n",
       "    </tr>\n",
       "    <tr>\n",
       "      <td>5</td>\n",
       "      <td>unskilled</td>\n",
       "      <td>unskilled</td>\n",
       "      <td>1756</td>\n",
       "    </tr>\n",
       "    <tr>\n",
       "      <td>6</td>\n",
       "      <td>unskilled</td>\n",
       "      <td>skilled</td>\n",
       "      <td>1630</td>\n",
       "    </tr>\n",
       "    <tr>\n",
       "      <td>7</td>\n",
       "      <td>unskilled</td>\n",
       "      <td>professional</td>\n",
       "      <td>1568</td>\n",
       "    </tr>\n",
       "    <tr>\n",
       "      <td>8</td>\n",
       "      <td>skilled</td>\n",
       "      <td>farm</td>\n",
       "      <td>63</td>\n",
       "    </tr>\n",
       "    <tr>\n",
       "      <td>9</td>\n",
       "      <td>skilled</td>\n",
       "      <td>unskilled</td>\n",
       "      <td>1453</td>\n",
       "    </tr>\n",
       "    <tr>\n",
       "      <td>10</td>\n",
       "      <td>skilled</td>\n",
       "      <td>skilled</td>\n",
       "      <td>2068</td>\n",
       "    </tr>\n",
       "    <tr>\n",
       "      <td>11</td>\n",
       "      <td>skilled</td>\n",
       "      <td>professional</td>\n",
       "      <td>2483</td>\n",
       "    </tr>\n",
       "    <tr>\n",
       "      <td>12</td>\n",
       "      <td>professional</td>\n",
       "      <td>farm</td>\n",
       "      <td>61</td>\n",
       "    </tr>\n",
       "    <tr>\n",
       "      <td>13</td>\n",
       "      <td>professional</td>\n",
       "      <td>unskilled</td>\n",
       "      <td>749</td>\n",
       "    </tr>\n",
       "    <tr>\n",
       "      <td>14</td>\n",
       "      <td>professional</td>\n",
       "      <td>skilled</td>\n",
       "      <td>1183</td>\n",
       "    </tr>\n",
       "    <tr>\n",
       "      <td>15</td>\n",
       "      <td>professional</td>\n",
       "      <td>professional</td>\n",
       "      <td>3315</td>\n",
       "    </tr>\n",
       "  </tbody>\n",
       "</table>\n",
       "</div>"
      ],
      "text/plain": [
       "          father           son  count\n",
       "0           farm          farm    703\n",
       "1           farm     unskilled   1478\n",
       "2           farm       skilled   1430\n",
       "3           farm  professional   1109\n",
       "4      unskilled          farm     58\n",
       "5      unskilled     unskilled   1756\n",
       "6      unskilled       skilled   1630\n",
       "7      unskilled  professional   1568\n",
       "8        skilled          farm     63\n",
       "9        skilled     unskilled   1453\n",
       "10       skilled       skilled   2068\n",
       "11       skilled  professional   2483\n",
       "12  professional          farm     61\n",
       "13  professional     unskilled    749\n",
       "14  professional       skilled   1183\n",
       "15  professional  professional   3315"
      ]
     },
     "execution_count": 22,
     "metadata": {},
     "output_type": "execute_result"
    }
   ],
   "source": [
    "df"
   ]
  },
  {
   "cell_type": "code",
   "execution_count": 18,
   "metadata": {},
   "outputs": [],
   "source": [
    "#Uniform Dirichlet prior\n",
    "alpha = np.ones(len(df))\n",
    "prior = sts.dirichlet(alpha)\n",
    "\n",
    "#Using a multinomial likelihood, we have the conjugate prior Dirchlet posterior Distribution\n",
    "posterior_alpha = [alpha[i]+df[\"count\"][i] for i in range(len(df))]\n",
    "posterior = sts.dirichlet(posterior_alpha)"
   ]
  },
  {
   "cell_type": "code",
   "execution_count": 89,
   "metadata": {},
   "outputs": [
    {
     "name": "stdout",
     "output_type": "stream",
     "text": [
      "95% CI for the probability that the son is skilled given that the father is unskilled\n",
      " [0.31218173 0.33806699]\n"
     ]
    }
   ],
   "source": [
    "#a. What is the posterior 95% probability interval over the probability that a \n",
    "#son will become a skilled laborer if his father was an unskilled laborer?\n",
    "unskilled_fathers = df[df[\"father\"]==\"unskilled\"]\n",
    "alpha = np.ones(len(unskilled_fathers))\n",
    "\n",
    "posterior_alpha = [alpha[i]+unskilled_fathers[\"count\"].iloc[i] for i in range(len(unskilled_fathers))]\n",
    "posterior = sts.dirichlet(posterior_alpha)\n",
    "posterior_samples = posterior.rvs(10000)\n",
    "\n",
    "print(\"95% CI for the probability that the son is skilled given that the father is unskilled\\n\",\n",
    "      np.percentile(posterior_samples[:,2], [2.5, 97.5]))"
   ]
  },
  {
   "cell_type": "code",
   "execution_count": 90,
   "metadata": {},
   "outputs": [
    {
     "name": "stdout",
     "output_type": "stream",
     "text": [
      "95% CI for the probability that the father is skilled if the son is a professional\n",
      " [0.1239012  0.13803796]\n"
     ]
    }
   ],
   "source": [
    "#b. What is the posterior 95% probability interval over the probability that a father \n",
    "professional_sons = df[df[\"son\"]==\"professional\"]\n",
    "alpha = np.ones(len(professional_sons))\n",
    "\n",
    "posterior_alpha = [alpha[i]+professional_sons[\"count\"].iloc[i] for i in range(len(professional_sons))]\n",
    "posterior = sts.dirichlet(posterior_alpha)\n",
    "posterior_samples = posterior.rvs(10000)\n",
    "\n",
    "print(\"95% CI for the probability that the father is skilled if the son is a professional\\n\",\n",
    "      np.percentile(posterior_samples[:,0], [2.5, 97.5]))"
   ]
  },
  {
   "cell_type": "code",
   "execution_count": 91,
   "metadata": {},
   "outputs": [
    {
     "ename": "SyntaxError",
     "evalue": "unexpected EOF while parsing (<ipython-input-91-900229d109e2>, line 1)",
     "output_type": "error",
     "traceback": [
      "\u001b[0;36m  File \u001b[0;32m\"<ipython-input-91-900229d109e2>\"\u001b[0;36m, line \u001b[0;32m1\u001b[0m\n\u001b[0;31m    (\u001b[0m\n\u001b[0m     ^\u001b[0m\n\u001b[0;31mSyntaxError\u001b[0m\u001b[0;31m:\u001b[0m unexpected EOF while parsing\n"
     ]
    }
   ],
   "source": [
    "("
   ]
  },
  {
   "cell_type": "code",
   "execution_count": null,
   "metadata": {},
   "outputs": [],
   "source": []
  }
 ],
 "metadata": {
  "kernelspec": {
   "display_name": "Python 3",
   "language": "python",
   "name": "python3"
  },
  "language_info": {
   "codemirror_mode": {
    "name": "ipython",
    "version": 3
   },
   "file_extension": ".py",
   "mimetype": "text/x-python",
   "name": "python",
   "nbconvert_exporter": "python",
   "pygments_lexer": "ipython3",
   "version": "3.6.9"
  }
 },
 "nbformat": 4,
 "nbformat_minor": 2
}
