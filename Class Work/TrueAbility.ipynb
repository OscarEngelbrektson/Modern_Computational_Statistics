{
 "cells": [
  {
   "cell_type": "markdown",
   "metadata": {},
   "source": [
    "The TrueSkill model, developed by Microsoft, uses historical match data–wins, losses, draws– to infer player skill. Conceptualizing student-item interactions as matches, personalized question assignment becomes a matchmaking problem–similar to that faced by Microsoft. \n",
    "\n",
    "this paper develops the Trueskill framework to model student ability. The main modification being that the \"difficulty\" of questions does not develop over time. \n",
    "\n",
    "Online games use \n",
    "\n",
    "\t1. Draw factor graph\n",
    "    2. Use Infer.NET to generate message passing procedure"
   ]
  },
  {
   "cell_type": "code",
   "execution_count": null,
   "metadata": {},
   "outputs": [],
   "source": []
  }
 ],
 "metadata": {
  "kernelspec": {
   "display_name": "Python 3",
   "language": "python",
   "name": "python3"
  },
  "language_info": {
   "codemirror_mode": {
    "name": "ipython",
    "version": 3
   },
   "file_extension": ".py",
   "mimetype": "text/x-python",
   "name": "python",
   "nbconvert_exporter": "python",
   "pygments_lexer": "ipython3",
   "version": "3.6.9"
  }
 },
 "nbformat": 4,
 "nbformat_minor": 2
}
