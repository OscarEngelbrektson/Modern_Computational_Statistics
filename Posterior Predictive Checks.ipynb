{
 "cells": [
  {
   "cell_type": "markdown",
   "metadata": {},
   "source": [
    "# Assignment 4 - Posterior Predictive Checks\n",
    "## Oscar Engelbrektson\n",
    "## CS146, Prof. Scheffler, Fall 2019"
   ]
  },
  {
   "cell_type": "markdown",
   "metadata": {},
   "source": [
    "The key assumption of the non-hierarchical model is that the probability of success in each of the medical trials is identical. In this assignment, I perform a posterior predictive check to check how well the data generated from the model captures relevant characteristics, as defined the test statistic below. I find that the modelling assumption is not appropriate, as it is highly improbable (p-value=0.008) that the variance in success rate between studies be as large as it is in the real data if it had been generated using our model. "
   ]
  },
  {
   "cell_type": "markdown",
   "metadata": {},
   "source": [
    "### Load prereqs, data and the posterior derived in session 8.1"
   ]
  },
  {
   "cell_type": "code",
   "execution_count": 1,
   "metadata": {},
   "outputs": [],
   "source": [
    "import numpy as np\n",
    "import scipy.stats as sts\n",
    "import matplotlib.pyplot as plt"
   ]
  },
  {
   "cell_type": "code",
   "execution_count": 58,
   "metadata": {},
   "outputs": [],
   "source": [
    "#Data for the control group for each of the medical trials\n",
    "#format: [#improved patients, total#patients]\n",
    "data = np.array([[4, 10],\n",
    "                [11, 18],\n",
    "                [0, 10],\n",
    "                [12, 29],\n",
    "                [9, 15],\n",
    "                [21, 39]])\n",
    "\n",
    "#Posterior distribution for model\n",
    "posterior = sts.beta(a=58, b=65)"
   ]
  },
  {
   "cell_type": "markdown",
   "metadata": {},
   "source": [
    "## Defining a test statistic\n",
    "\n",
    "Central to whether it is appropriate to assume that all studies can be modeled as draws from a binomial distributon with the same p is whether it captures the variation in success rate between studies. We design a test statistic to compute the variance in success rate between six studies. This test statistic will be applied to both the real data and replicated data from the posterior predictive distribution of our model."
   ]
  },
  {
   "cell_type": "code",
   "execution_count": 40,
   "metadata": {},
   "outputs": [],
   "source": [
    "def test_statistic(data):\n",
    "    '''\n",
    "    Takes input 6x2 matrix where each row contains represents a study\n",
    "    and columns are [improved, total].\n",
    "    Returns variance in improvement rate accross the 6 studies \n",
    "    '''\n",
    "    return np.var([data[i][0]/data[i][1] for i in range(6)])"
   ]
  },
  {
   "cell_type": "code",
   "execution_count": 62,
   "metadata": {},
   "outputs": [],
   "source": [
    "real_variance = test_statistic(data)"
   ]
  },
  {
   "cell_type": "markdown",
   "metadata": {},
   "source": [
    "## Posterior predictive check\n",
    "\n",
    "Process for performing the posterior predictive check:\n",
    "1. Generate a sample p from the posterior distribution\n",
    "2. Generate replicated data for each of the studies, using the posterior predictive distribution Binomial(n_i, p), where n_i is the number of patients in study i ∈ [0, 5] (one for each study). This yields a 6x2 matrix with the same number of patients in each study, i.e. the second column is identical to that of the real data, but where the number of successes is simulated using p from a sample of the posterior.\n",
    "3. Compute test statistic on the data of the 6 replicated studies.\n",
    "4. Repeat 10000 times and record the test statistic each time."
   ]
  },
  {
   "cell_type": "code",
   "execution_count": 63,
   "metadata": {},
   "outputs": [],
   "source": [
    "replicated_variance = []\n",
    "for i in range(10000):\n",
    "    sample_p = posterior.rvs()\n",
    "    replicated_studies = [(sts.binom(data[i][1], sample_p).rvs(), data[i][1]) for i in range(6)]\n",
    "    replicated_variance.append(test_statistic(replicated_studies))"
   ]
  },
  {
   "cell_type": "code",
   "execution_count": 65,
   "metadata": {},
   "outputs": [
    {
     "name": "stdout",
     "output_type": "stream",
     "text": [
      "The p-value for the test statistic of the real data is 0.008\n"
     ]
    }
   ],
   "source": [
    "#Computing the p-value by calculating the proportion of times the \n",
    "#Test statistic for the replicated data is more higher than that of the real data\n",
    "print(\"The p-value for the test statistic of the real data is %0.3f\"\n",
    "     % np.mean(replicated_variance > real_variance))"
   ]
  },
  {
   "cell_type": "markdown",
   "metadata": {},
   "source": [
    "## Visualizing the results"
   ]
  },
  {
   "cell_type": "markdown",
   "metadata": {},
   "source": [
    "We plot the a histogram of the test statistic for each of the 10000 replicated datasets. The red vertical line replresents the value of the test-statistic for the real dataset. The test-statistic for the real dataset is far in the right tail of the data, meaning it is extreme relative to the distribution of test statistics for the replicated datasets."
   ]
  },
  {
   "cell_type": "code",
   "execution_count": 66,
   "metadata": {},
   "outputs": [
    {
     "data": {
      "image/png": "[encoded data removed]",
      "text/plain": [
       "<Figure size 720x432 with 1 Axes>"
      ]
     },
     "metadata": {
      "needs_background": "light"
     },
     "output_type": "display_data"
    }
   ],
   "source": [
    "plt.figure(figsize=(10, 6))\n",
    "plt.hist(replicated_variance, bins=\"auto\")\n",
    "plt.axvline(x=real_variance, color=\"r\")\n",
    "plt.title(\"Posterior predictive check\")\n",
    "plt.ylabel(\"Frequency (#)\")\n",
    "plt.xlabel(\"Test statistic (variance in success rate between studies)\")\n",
    "plt.show()"
   ]
  },
  {
   "cell_type": "markdown",
   "metadata": {},
   "source": [
    "We can interpret this as there being a 0.008 probability of seeing data with variance as large as the real data, if it was generated with this model. Simply put, the non-hierarchical model does not explain the control group data well."
   ]
  }
 ],
 "metadata": {
  "kernelspec": {
   "display_name": "Python 3",
   "language": "python",
   "name": "python3"
  },
  "language_info": {
   "codemirror_mode": {
    "name": "ipython",
    "version": 3
   },
   "file_extension": ".py",
   "mimetype": "text/x-python",
   "name": "python",
   "nbconvert_exporter": "python",
   "pygments_lexer": "ipython3",
   "version": "3.6.9"
  }
 },
 "nbformat": 4,
 "nbformat_minor": 2
}
